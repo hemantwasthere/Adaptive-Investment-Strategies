{
 "cells": [
  {
   "cell_type": "markdown",
   "id": "e24ce7ae",
   "metadata": {},
   "source": [
    "# Load required modules and classes"
   ]
  },
  {
   "cell_type": "code",
   "execution_count": 19,
   "id": "db396619",
   "metadata": {},
   "outputs": [],
   "source": [
    "# Standard Library Imports\n",
    "import asyncio\n",
    "import json\n",
    "import math\n",
    "import os\n",
    "import pickle\n",
    "from datetime import datetime, timedelta\n",
    "\n",
    "# Third-Party Library Imports\n",
    "import dcor\n",
    "import itertools\n",
    "import matplotlib.pyplot as plt\n",
    "import numpy as np\n",
    "import pandas as pd\n",
    "import yfinance as yf\n",
    "from aiohttp import ClientError\n",
    "from starknet_py.net.full_node_client import FullNodeClient\n",
    "\n",
    "# Local Imports\n",
    "from src.data.ekubo_data import EkuboData  # Importing the EkuboData class\n",
    "from src.ekubo_math import get_token_order, get_pool_fee_touse, get_tick_spacing_touse, get_liquidity_from_token1_capital"
   ]
  },
  {
   "cell_type": "markdown",
   "id": "75e82c8b",
   "metadata": {},
   "source": [
    "# Defining the constants to use"
   ]
  },
  {
   "cell_type": "code",
   "execution_count": 4,
   "id": "a3796fd6",
   "metadata": {},
   "outputs": [
    {
     "name": "stdout",
     "output_type": "stream",
     "text": [
      "Token0 Address: 0x42b8f0484674ca266ac5d08e4ac6a3fe65bd3129795def2dca5c34ecc5f96d2, Token1 Address: 0x49d36570d4e46f48e99674bd3fcc84644ddd6b96f7c741b1562b82f9e004dc7\n",
      "Pool Fee to use: 3402823669209384797702963685910118\n",
      "Tick Spacing to use: 20\n"
     ]
    }
   ],
   "source": [
    "# Tokens in the LP\n",
    "address1 = '0x42b8f0484674ca266ac5d08e4ac6a3fe65bd3129795def2dca5c34ecc5f96d2'  # wstETH\n",
    "address2 = '0x49d36570d4e46f48e99674bd3fcc84644ddd6b96f7c741b1562b82f9e004dc7'  # ETH\n",
    "\n",
    "token0_address, token1_address = get_token_order(address1, address2)\n",
    "print(f\"Token0 Address: {token0_address}, Token1 Address: {token1_address}\")\n",
    "\n",
    "# existing values from the website \n",
    "pool_fee = 0.001  # in %\n",
    "tick_spacing = 0.002  # in %\n",
    "\n",
    "# fee and tick spacing to use\n",
    "pool_fee_touse = 3402823669209384797702963685910118\n",
    "# pool_fee_touse = get_pool_fee_touse(pool_fee)\n",
    "tick_spacing_touse = get_tick_spacing_touse(tick_spacing)\n",
    "print(f\"Pool Fee to use: {pool_fee_touse}\")\n",
    "print(f\"Tick Spacing to use: {tick_spacing_touse}\")"
   ]
  },
  {
   "cell_type": "markdown",
   "id": "47bfaef2",
   "metadata": {},
   "source": [
    "# Initializing EkuboData class for loading data"
   ]
  },
  {
   "cell_type": "code",
   "execution_count": 5,
   "id": "8d1dc985",
   "metadata": {},
   "outputs": [],
   "source": [
    "# Initialize the data loader with the required parameters\n",
    "ekubo_data = EkuboData(\n",
    "    client_url=\"https://starknet-mainnet.public.blastapi.io\", \n",
    "    contract_address=\"0x00000005dd3d2f4429af886cd1a3b08289dbcea99a294197e9eb43b0e0325b4b\", # Ekubo\n",
    "    token0_address=token0_address,  # wstETH Address\n",
    "    token1_address=token1_address,  # ETH Address\n",
    "    pool_fee=pool_fee_touse,\n",
    "    tick_spacing=tick_spacing_touse\n",
    ")"
   ]
  },
  {
   "cell_type": "markdown",
   "id": "ecc2ff8a",
   "metadata": {},
   "source": [
    "# Load data from src/data"
   ]
  },
  {
   "cell_type": "code",
   "execution_count": 7,
   "id": "73d78b8d",
   "metadata": {},
   "outputs": [],
   "source": [
    "# Load events from files\n",
    "events_response_positions_updated = ekubo_data.load_events_from_file('data/events_response_positions_updated.pkl')\n",
    "combined_events_response_swap = ekubo_data.load_events_from_file('data/combined_events_response_swap.pkl')\n",
    "# events_response_positions_updated = events_response_positions_updated.events\n",
    "# print(events_response_positions_updated.events[0])\n",
    "# print(combined_events_response_swap[0])"
   ]
  },
  {
   "cell_type": "markdown",
   "id": "a69d4d21",
   "metadata": {},
   "source": [
    "# Filter the data based on the liquidity pool, tick spacing and pool fee provided earlier"
   ]
  },
  {
   "cell_type": "code",
   "execution_count": 8,
   "id": "695bd99f",
   "metadata": {},
   "outputs": [
    {
     "name": "stdout",
     "output_type": "stream",
     "text": [
      "Liquidity DataFrame:\n"
     ]
    },
    {
     "data": {
      "text/html": [
       "<div>\n",
       "<style scoped>\n",
       "    .dataframe tbody tr th:only-of-type {\n",
       "        vertical-align: middle;\n",
       "    }\n",
       "\n",
       "    .dataframe tbody tr th {\n",
       "        vertical-align: top;\n",
       "    }\n",
       "\n",
       "    .dataframe thead th {\n",
       "        text-align: right;\n",
       "    }\n",
       "</style>\n",
       "<table border=\"1\" class=\"dataframe\">\n",
       "  <thead>\n",
       "    <tr style=\"text-align: right;\">\n",
       "      <th></th>\n",
       "      <th>block_number</th>\n",
       "      <th>transaction_hash</th>\n",
       "      <th>delta_liquidity</th>\n",
       "      <th>tick_lower</th>\n",
       "      <th>tick_upper</th>\n",
       "    </tr>\n",
       "  </thead>\n",
       "  <tbody>\n",
       "    <tr>\n",
       "      <th>0</th>\n",
       "      <td>655177</td>\n",
       "      <td>2879145539418839403171763982604352401380370371...</td>\n",
       "      <td>27408128235124552785321</td>\n",
       "      <td>158280</td>\n",
       "      <td>158460</td>\n",
       "    </tr>\n",
       "    <tr>\n",
       "      <th>1</th>\n",
       "      <td>655424</td>\n",
       "      <td>1279209847316592012798496238689033441847594858...</td>\n",
       "      <td>-99209107691145427163307</td>\n",
       "      <td>158400</td>\n",
       "      <td>158440</td>\n",
       "    </tr>\n",
       "    <tr>\n",
       "      <th>2</th>\n",
       "      <td>655424</td>\n",
       "      <td>2236106133222411803388378305320859355758706418...</td>\n",
       "      <td>262573697381870119149</td>\n",
       "      <td>158000</td>\n",
       "      <td>158800</td>\n",
       "    </tr>\n",
       "    <tr>\n",
       "      <th>3</th>\n",
       "      <td>655424</td>\n",
       "      <td>3387282097104070895993181893437770629177012930...</td>\n",
       "      <td>10990777850625690682059</td>\n",
       "      <td>158220</td>\n",
       "      <td>158860</td>\n",
       "    </tr>\n",
       "    <tr>\n",
       "      <th>4</th>\n",
       "      <td>655424</td>\n",
       "      <td>3779414541303248423459591667090630130681763650...</td>\n",
       "      <td>99205850788549541510734</td>\n",
       "      <td>158540</td>\n",
       "      <td>158580</td>\n",
       "    </tr>\n",
       "  </tbody>\n",
       "</table>\n",
       "</div>"
      ],
      "text/plain": [
       "   block_number                                   transaction_hash  \\\n",
       "0        655177  2879145539418839403171763982604352401380370371...   \n",
       "1        655424  1279209847316592012798496238689033441847594858...   \n",
       "2        655424  2236106133222411803388378305320859355758706418...   \n",
       "3        655424  3387282097104070895993181893437770629177012930...   \n",
       "4        655424  3779414541303248423459591667090630130681763650...   \n",
       "\n",
       "            delta_liquidity  tick_lower  tick_upper  \n",
       "0   27408128235124552785321      158280      158460  \n",
       "1  -99209107691145427163307      158400      158440  \n",
       "2     262573697381870119149      158000      158800  \n",
       "3   10990777850625690682059      158220      158860  \n",
       "4   99205850788549541510734      158540      158580  "
      ]
     },
     "metadata": {},
     "output_type": "display_data"
    },
    {
     "name": "stdout",
     "output_type": "stream",
     "text": [
      "576\n",
      "Swap DataFrame:\n"
     ]
    },
    {
     "data": {
      "text/html": [
       "<div>\n",
       "<style scoped>\n",
       "    .dataframe tbody tr th:only-of-type {\n",
       "        vertical-align: middle;\n",
       "    }\n",
       "\n",
       "    .dataframe tbody tr th {\n",
       "        vertical-align: top;\n",
       "    }\n",
       "\n",
       "    .dataframe thead th {\n",
       "        text-align: right;\n",
       "    }\n",
       "</style>\n",
       "<table border=\"1\" class=\"dataframe\">\n",
       "  <thead>\n",
       "    <tr style=\"text-align: right;\">\n",
       "      <th></th>\n",
       "      <th>block_number</th>\n",
       "      <th>transaction_hash</th>\n",
       "      <th>price</th>\n",
       "      <th>tick_id</th>\n",
       "      <th>liquidity_after</th>\n",
       "      <th>amount0</th>\n",
       "      <th>amount1</th>\n",
       "    </tr>\n",
       "  </thead>\n",
       "  <tbody>\n",
       "    <tr>\n",
       "      <th>0</th>\n",
       "      <td>655177</td>\n",
       "      <td>2416157948790894051047941157778594406573451511...</td>\n",
       "      <td>1.171710</td>\n",
       "      <td>158464</td>\n",
       "      <td>137703958037274544831372</td>\n",
       "      <td>-2256616757779677</td>\n",
       "      <td>2644126307134438</td>\n",
       "    </tr>\n",
       "    <tr>\n",
       "      <th>1</th>\n",
       "      <td>655177</td>\n",
       "      <td>2416157948790894051047941157778594406573451511...</td>\n",
       "      <td>1.171710</td>\n",
       "      <td>158464</td>\n",
       "      <td>137703958037274544831372</td>\n",
       "      <td>0</td>\n",
       "      <td>0</td>\n",
       "    </tr>\n",
       "    <tr>\n",
       "      <th>2</th>\n",
       "      <td>655179</td>\n",
       "      <td>1241404949126819184019688044659591190675013926...</td>\n",
       "      <td>1.171708</td>\n",
       "      <td>158463</td>\n",
       "      <td>137703958037274544831372</td>\n",
       "      <td>42668433630093793</td>\n",
       "      <td>-49994504035756152</td>\n",
       "    </tr>\n",
       "    <tr>\n",
       "      <th>3</th>\n",
       "      <td>655179</td>\n",
       "      <td>1241404949126819184019688044659591190675013926...</td>\n",
       "      <td>1.171708</td>\n",
       "      <td>158463</td>\n",
       "      <td>137703958037274544831372</td>\n",
       "      <td>-21336138963323289</td>\n",
       "      <td>25000000000000000</td>\n",
       "    </tr>\n",
       "    <tr>\n",
       "      <th>4</th>\n",
       "      <td>655179</td>\n",
       "      <td>1241404949126819184019688044659591190675013926...</td>\n",
       "      <td>1.171708</td>\n",
       "      <td>158463</td>\n",
       "      <td>137703958037274544831372</td>\n",
       "      <td>21334216438183549</td>\n",
       "      <td>-24997247385081083</td>\n",
       "    </tr>\n",
       "  </tbody>\n",
       "</table>\n",
       "</div>"
      ],
      "text/plain": [
       "   block_number                                   transaction_hash     price  \\\n",
       "0        655177  2416157948790894051047941157778594406573451511...  1.171710   \n",
       "1        655177  2416157948790894051047941157778594406573451511...  1.171710   \n",
       "2        655179  1241404949126819184019688044659591190675013926...  1.171708   \n",
       "3        655179  1241404949126819184019688044659591190675013926...  1.171708   \n",
       "4        655179  1241404949126819184019688044659591190675013926...  1.171708   \n",
       "\n",
       "   tick_id           liquidity_after             amount0             amount1  \n",
       "0   158464  137703958037274544831372   -2256616757779677    2644126307134438  \n",
       "1   158464  137703958037274544831372                   0                   0  \n",
       "2   158463  137703958037274544831372   42668433630093793  -49994504035756152  \n",
       "3   158463  137703958037274544831372  -21336138963323289   25000000000000000  \n",
       "4   158463  137703958037274544831372   21334216438183549  -24997247385081083  "
      ]
     },
     "metadata": {},
     "output_type": "display_data"
    },
    {
     "name": "stdout",
     "output_type": "stream",
     "text": [
      "20248\n"
     ]
    }
   ],
   "source": [
    "# Process the events to filter relevant data and create DataFrames\n",
    "df_liquidity, df_swap = ekubo_data.process_events(events_response_positions_updated.events, combined_events_response_swap)\n",
    "\n",
    "# Display the first few rows of the liquidity and swap DataFrames\n",
    "print(\"Liquidity DataFrame:\")\n",
    "display(df_liquidity.head())\n",
    "print(len(df_liquidity))\n",
    "print(\"Swap DataFrame:\")\n",
    "display(df_swap.head())\n",
    "print(len(df_swap))"
   ]
  },
  {
   "cell_type": "markdown",
   "id": "39768e1b",
   "metadata": {},
   "source": [
    "# Computing cummulative liquidity based on the liquidity and swap dataframes"
   ]
  },
  {
   "cell_type": "code",
   "execution_count": 9,
   "id": "ca253184",
   "metadata": {},
   "outputs": [
    {
     "name": "stdout",
     "output_type": "stream",
     "text": [
      "Cumulative Liquidity DataFrame for Training Data:\n"
     ]
    },
    {
     "data": {
      "text/html": [
       "<div>\n",
       "<style scoped>\n",
       "    .dataframe tbody tr th:only-of-type {\n",
       "        vertical-align: middle;\n",
       "    }\n",
       "\n",
       "    .dataframe tbody tr th {\n",
       "        vertical-align: top;\n",
       "    }\n",
       "\n",
       "    .dataframe thead th {\n",
       "        text-align: right;\n",
       "    }\n",
       "</style>\n",
       "<table border=\"1\" class=\"dataframe\">\n",
       "  <thead>\n",
       "    <tr style=\"text-align: right;\">\n",
       "      <th></th>\n",
       "      <th>block_number</th>\n",
       "      <th>tick_liquidity_distribution</th>\n",
       "    </tr>\n",
       "  </thead>\n",
       "  <tbody>\n",
       "    <tr>\n",
       "      <th>0</th>\n",
       "      <td>655177</td>\n",
       "      <td>{-64680: 0, -64660: 0, -64640: 0, -64620: 0, -...</td>\n",
       "    </tr>\n",
       "    <tr>\n",
       "      <th>1</th>\n",
       "      <td>655179</td>\n",
       "      <td>{-64680: 0, -64660: 0, -64640: 0, -64620: 0, -...</td>\n",
       "    </tr>\n",
       "    <tr>\n",
       "      <th>2</th>\n",
       "      <td>655180</td>\n",
       "      <td>{-64680: 0, -64660: 0, -64640: 0, -64620: 0, -...</td>\n",
       "    </tr>\n",
       "    <tr>\n",
       "      <th>3</th>\n",
       "      <td>655183</td>\n",
       "      <td>{-64680: 0, -64660: 0, -64640: 0, -64620: 0, -...</td>\n",
       "    </tr>\n",
       "    <tr>\n",
       "      <th>4</th>\n",
       "      <td>655186</td>\n",
       "      <td>{-64680: 0, -64660: 0, -64640: 0, -64620: 0, -...</td>\n",
       "    </tr>\n",
       "  </tbody>\n",
       "</table>\n",
       "</div>"
      ],
      "text/plain": [
       "   block_number                        tick_liquidity_distribution\n",
       "0        655177  {-64680: 0, -64660: 0, -64640: 0, -64620: 0, -...\n",
       "1        655179  {-64680: 0, -64660: 0, -64640: 0, -64620: 0, -...\n",
       "2        655180  {-64680: 0, -64660: 0, -64640: 0, -64620: 0, -...\n",
       "3        655183  {-64680: 0, -64660: 0, -64640: 0, -64620: 0, -...\n",
       "4        655186  {-64680: 0, -64660: 0, -64640: 0, -64620: 0, -..."
      ]
     },
     "metadata": {},
     "output_type": "display_data"
    }
   ],
   "source": [
    "# Compute the cumulative liquidity distribution for the training data\n",
    "cumulative_liquidity_df = ekubo_data.compute_cumulative_liquidity(\n",
    "    data_swap=df_swap.to_dict('records'), \n",
    "    data_liquidity=df_liquidity.to_dict('records'), \n",
    "    price_range_liquidity = 20 # in percentage +-from current price\n",
    ")\n",
    "\n",
    "# Display the cumulative liquidity DataFrame\n",
    "print(\"Cumulative Liquidity DataFrame for Training Data:\")\n",
    "display(cumulative_liquidity_df.head())\n",
    "\n",
    "# Analyze and visualize the cumulative liquidity for the last block in training data\n",
    "last_block_data = cumulative_liquidity_df.iloc[-1]\n",
    "last_block_number = last_block_data['block_number']\n",
    "last_block_tick_liquidity = last_block_data['tick_liquidity_distribution']\n",
    "\n",
    "# Note: The cummulative liquidity is currently not being used in this code. "
   ]
  },
  {
   "cell_type": "markdown",
   "id": "66cd808b",
   "metadata": {},
   "source": [
    "# Divide the swap data into 70-30% for training and testing respectively "
   ]
  },
  {
   "cell_type": "code",
   "execution_count": 10,
   "id": "f15a553a",
   "metadata": {},
   "outputs": [
    {
     "name": "stdout",
     "output_type": "stream",
     "text": [
      "Split Block: 666447\n",
      "Max Block: 671277\n",
      "Min Block: 655177\n",
      "Training Swap DataFrame:\n"
     ]
    },
    {
     "data": {
      "text/html": [
       "<div>\n",
       "<style scoped>\n",
       "    .dataframe tbody tr th:only-of-type {\n",
       "        vertical-align: middle;\n",
       "    }\n",
       "\n",
       "    .dataframe tbody tr th {\n",
       "        vertical-align: top;\n",
       "    }\n",
       "\n",
       "    .dataframe thead th {\n",
       "        text-align: right;\n",
       "    }\n",
       "</style>\n",
       "<table border=\"1\" class=\"dataframe\">\n",
       "  <thead>\n",
       "    <tr style=\"text-align: right;\">\n",
       "      <th></th>\n",
       "      <th>block_number</th>\n",
       "      <th>transaction_hash</th>\n",
       "      <th>price</th>\n",
       "      <th>tick_id</th>\n",
       "      <th>liquidity_after</th>\n",
       "      <th>amount0</th>\n",
       "      <th>amount1</th>\n",
       "    </tr>\n",
       "  </thead>\n",
       "  <tbody>\n",
       "    <tr>\n",
       "      <th>0</th>\n",
       "      <td>655177</td>\n",
       "      <td>2416157948790894051047941157778594406573451511...</td>\n",
       "      <td>1.171710</td>\n",
       "      <td>158464</td>\n",
       "      <td>137703958037274544831372</td>\n",
       "      <td>-2256616757779677</td>\n",
       "      <td>2644126307134438</td>\n",
       "    </tr>\n",
       "    <tr>\n",
       "      <th>1</th>\n",
       "      <td>655177</td>\n",
       "      <td>2416157948790894051047941157778594406573451511...</td>\n",
       "      <td>1.171710</td>\n",
       "      <td>158464</td>\n",
       "      <td>137703958037274544831372</td>\n",
       "      <td>0</td>\n",
       "      <td>0</td>\n",
       "    </tr>\n",
       "    <tr>\n",
       "      <th>2</th>\n",
       "      <td>655179</td>\n",
       "      <td>1241404949126819184019688044659591190675013926...</td>\n",
       "      <td>1.171708</td>\n",
       "      <td>158463</td>\n",
       "      <td>137703958037274544831372</td>\n",
       "      <td>42668433630093793</td>\n",
       "      <td>-49994504035756152</td>\n",
       "    </tr>\n",
       "    <tr>\n",
       "      <th>3</th>\n",
       "      <td>655179</td>\n",
       "      <td>1241404949126819184019688044659591190675013926...</td>\n",
       "      <td>1.171708</td>\n",
       "      <td>158463</td>\n",
       "      <td>137703958037274544831372</td>\n",
       "      <td>-21336138963323289</td>\n",
       "      <td>25000000000000000</td>\n",
       "    </tr>\n",
       "    <tr>\n",
       "      <th>4</th>\n",
       "      <td>655179</td>\n",
       "      <td>1241404949126819184019688044659591190675013926...</td>\n",
       "      <td>1.171708</td>\n",
       "      <td>158463</td>\n",
       "      <td>137703958037274544831372</td>\n",
       "      <td>21334216438183549</td>\n",
       "      <td>-24997247385081083</td>\n",
       "    </tr>\n",
       "  </tbody>\n",
       "</table>\n",
       "</div>"
      ],
      "text/plain": [
       "   block_number                                   transaction_hash     price  \\\n",
       "0        655177  2416157948790894051047941157778594406573451511...  1.171710   \n",
       "1        655177  2416157948790894051047941157778594406573451511...  1.171710   \n",
       "2        655179  1241404949126819184019688044659591190675013926...  1.171708   \n",
       "3        655179  1241404949126819184019688044659591190675013926...  1.171708   \n",
       "4        655179  1241404949126819184019688044659591190675013926...  1.171708   \n",
       "\n",
       "   tick_id           liquidity_after             amount0             amount1  \n",
       "0   158464  137703958037274544831372   -2256616757779677    2644126307134438  \n",
       "1   158464  137703958037274544831372                   0                   0  \n",
       "2   158463  137703958037274544831372   42668433630093793  -49994504035756152  \n",
       "3   158463  137703958037274544831372  -21336138963323289   25000000000000000  \n",
       "4   158463  137703958037274544831372   21334216438183549  -24997247385081083  "
      ]
     },
     "metadata": {},
     "output_type": "display_data"
    },
    {
     "name": "stdout",
     "output_type": "stream",
     "text": [
      "\n",
      "Testing Swap DataFrame:\n"
     ]
    },
    {
     "data": {
      "text/html": [
       "<div>\n",
       "<style scoped>\n",
       "    .dataframe tbody tr th:only-of-type {\n",
       "        vertical-align: middle;\n",
       "    }\n",
       "\n",
       "    .dataframe tbody tr th {\n",
       "        vertical-align: top;\n",
       "    }\n",
       "\n",
       "    .dataframe thead th {\n",
       "        text-align: right;\n",
       "    }\n",
       "</style>\n",
       "<table border=\"1\" class=\"dataframe\">\n",
       "  <thead>\n",
       "    <tr style=\"text-align: right;\">\n",
       "      <th></th>\n",
       "      <th>block_number</th>\n",
       "      <th>transaction_hash</th>\n",
       "      <th>price</th>\n",
       "      <th>tick_id</th>\n",
       "      <th>liquidity_after</th>\n",
       "      <th>amount0</th>\n",
       "      <th>amount1</th>\n",
       "    </tr>\n",
       "  </thead>\n",
       "  <tbody>\n",
       "    <tr>\n",
       "      <th>13683</th>\n",
       "      <td>666448</td>\n",
       "      <td>1903276054207653061200648579526616639866312958...</td>\n",
       "      <td>1.17387</td>\n",
       "      <td>160306</td>\n",
       "      <td>11346195275753762193653033</td>\n",
       "      <td>-10042534198831409</td>\n",
       "      <td>11788755094454503</td>\n",
       "    </tr>\n",
       "    <tr>\n",
       "      <th>13684</th>\n",
       "      <td>666449</td>\n",
       "      <td>1608441755630721589754255098830551190850725439...</td>\n",
       "      <td>1.17387</td>\n",
       "      <td>160306</td>\n",
       "      <td>11355452824249381796219829</td>\n",
       "      <td>-9591248785087431</td>\n",
       "      <td>11258999068426240</td>\n",
       "    </tr>\n",
       "    <tr>\n",
       "      <th>13685</th>\n",
       "      <td>666451</td>\n",
       "      <td>9931488744090905119109952418155395942826310943...</td>\n",
       "      <td>1.17387</td>\n",
       "      <td>160306</td>\n",
       "      <td>11355452824249381796219829</td>\n",
       "      <td>-63890550968730428</td>\n",
       "      <td>75000000000000000</td>\n",
       "    </tr>\n",
       "    <tr>\n",
       "      <th>13686</th>\n",
       "      <td>666451</td>\n",
       "      <td>3213033526508709098246266080731316210281387800...</td>\n",
       "      <td>1.17387</td>\n",
       "      <td>160306</td>\n",
       "      <td>11355452824249381796219829</td>\n",
       "      <td>-3836499462345422</td>\n",
       "      <td>4503599627370496</td>\n",
       "    </tr>\n",
       "    <tr>\n",
       "      <th>13687</th>\n",
       "      <td>666453</td>\n",
       "      <td>2077367677876820406995683185706584473581686340...</td>\n",
       "      <td>1.17387</td>\n",
       "      <td>160306</td>\n",
       "      <td>11355452824249381796219829</td>\n",
       "      <td>-159726376328769</td>\n",
       "      <td>187500000000000</td>\n",
       "    </tr>\n",
       "  </tbody>\n",
       "</table>\n",
       "</div>"
      ],
      "text/plain": [
       "       block_number                                   transaction_hash  \\\n",
       "13683        666448  1903276054207653061200648579526616639866312958...   \n",
       "13684        666449  1608441755630721589754255098830551190850725439...   \n",
       "13685        666451  9931488744090905119109952418155395942826310943...   \n",
       "13686        666451  3213033526508709098246266080731316210281387800...   \n",
       "13687        666453  2077367677876820406995683185706584473581686340...   \n",
       "\n",
       "         price  tick_id             liquidity_after             amount0  \\\n",
       "13683  1.17387   160306  11346195275753762193653033  -10042534198831409   \n",
       "13684  1.17387   160306  11355452824249381796219829   -9591248785087431   \n",
       "13685  1.17387   160306  11355452824249381796219829  -63890550968730428   \n",
       "13686  1.17387   160306  11355452824249381796219829   -3836499462345422   \n",
       "13687  1.17387   160306  11355452824249381796219829    -159726376328769   \n",
       "\n",
       "                 amount1  \n",
       "13683  11788755094454503  \n",
       "13684  11258999068426240  \n",
       "13685  75000000000000000  \n",
       "13686   4503599627370496  \n",
       "13687    187500000000000  "
      ]
     },
     "metadata": {},
     "output_type": "display_data"
    },
    {
     "name": "stdout",
     "output_type": "stream",
     "text": [
      "\n",
      "Training Liquidity DataFrame:\n"
     ]
    },
    {
     "data": {
      "text/html": [
       "<div>\n",
       "<style scoped>\n",
       "    .dataframe tbody tr th:only-of-type {\n",
       "        vertical-align: middle;\n",
       "    }\n",
       "\n",
       "    .dataframe tbody tr th {\n",
       "        vertical-align: top;\n",
       "    }\n",
       "\n",
       "    .dataframe thead th {\n",
       "        text-align: right;\n",
       "    }\n",
       "</style>\n",
       "<table border=\"1\" class=\"dataframe\">\n",
       "  <thead>\n",
       "    <tr style=\"text-align: right;\">\n",
       "      <th></th>\n",
       "      <th>block_number</th>\n",
       "      <th>transaction_hash</th>\n",
       "      <th>delta_liquidity</th>\n",
       "      <th>tick_lower</th>\n",
       "      <th>tick_upper</th>\n",
       "    </tr>\n",
       "  </thead>\n",
       "  <tbody>\n",
       "    <tr>\n",
       "      <th>0</th>\n",
       "      <td>655177</td>\n",
       "      <td>2879145539418839403171763982604352401380370371...</td>\n",
       "      <td>27408128235124552785321</td>\n",
       "      <td>158280</td>\n",
       "      <td>158460</td>\n",
       "    </tr>\n",
       "    <tr>\n",
       "      <th>1</th>\n",
       "      <td>655424</td>\n",
       "      <td>1279209847316592012798496238689033441847594858...</td>\n",
       "      <td>-99209107691145427163307</td>\n",
       "      <td>158400</td>\n",
       "      <td>158440</td>\n",
       "    </tr>\n",
       "    <tr>\n",
       "      <th>2</th>\n",
       "      <td>655424</td>\n",
       "      <td>2236106133222411803388378305320859355758706418...</td>\n",
       "      <td>262573697381870119149</td>\n",
       "      <td>158000</td>\n",
       "      <td>158800</td>\n",
       "    </tr>\n",
       "    <tr>\n",
       "      <th>3</th>\n",
       "      <td>655424</td>\n",
       "      <td>3387282097104070895993181893437770629177012930...</td>\n",
       "      <td>10990777850625690682059</td>\n",
       "      <td>158220</td>\n",
       "      <td>158860</td>\n",
       "    </tr>\n",
       "    <tr>\n",
       "      <th>4</th>\n",
       "      <td>655424</td>\n",
       "      <td>3779414541303248423459591667090630130681763650...</td>\n",
       "      <td>99205850788549541510734</td>\n",
       "      <td>158540</td>\n",
       "      <td>158580</td>\n",
       "    </tr>\n",
       "  </tbody>\n",
       "</table>\n",
       "</div>"
      ],
      "text/plain": [
       "   block_number                                   transaction_hash  \\\n",
       "0        655177  2879145539418839403171763982604352401380370371...   \n",
       "1        655424  1279209847316592012798496238689033441847594858...   \n",
       "2        655424  2236106133222411803388378305320859355758706418...   \n",
       "3        655424  3387282097104070895993181893437770629177012930...   \n",
       "4        655424  3779414541303248423459591667090630130681763650...   \n",
       "\n",
       "            delta_liquidity  tick_lower  tick_upper  \n",
       "0   27408128235124552785321      158280      158460  \n",
       "1  -99209107691145427163307      158400      158440  \n",
       "2     262573697381870119149      158000      158800  \n",
       "3   10990777850625690682059      158220      158860  \n",
       "4   99205850788549541510734      158540      158580  "
      ]
     },
     "metadata": {},
     "output_type": "display_data"
    },
    {
     "name": "stdout",
     "output_type": "stream",
     "text": [
      "\n",
      "Testing Liquidity DataFrame:\n"
     ]
    },
    {
     "data": {
      "text/html": [
       "<div>\n",
       "<style scoped>\n",
       "    .dataframe tbody tr th:only-of-type {\n",
       "        vertical-align: middle;\n",
       "    }\n",
       "\n",
       "    .dataframe tbody tr th {\n",
       "        vertical-align: top;\n",
       "    }\n",
       "\n",
       "    .dataframe thead th {\n",
       "        text-align: right;\n",
       "    }\n",
       "</style>\n",
       "<table border=\"1\" class=\"dataframe\">\n",
       "  <thead>\n",
       "    <tr style=\"text-align: right;\">\n",
       "      <th></th>\n",
       "      <th>block_number</th>\n",
       "      <th>transaction_hash</th>\n",
       "      <th>delta_liquidity</th>\n",
       "      <th>tick_lower</th>\n",
       "      <th>tick_upper</th>\n",
       "    </tr>\n",
       "  </thead>\n",
       "  <tbody>\n",
       "    <tr>\n",
       "      <th>439</th>\n",
       "      <td>666536</td>\n",
       "      <td>1911543264031492649671364865746270888424138935...</td>\n",
       "      <td>7100366254514246602899</td>\n",
       "      <td>160020</td>\n",
       "      <td>160280</td>\n",
       "    </tr>\n",
       "    <tr>\n",
       "      <th>440</th>\n",
       "      <td>666743</td>\n",
       "      <td>3612697557243504901502164165821570526602030830...</td>\n",
       "      <td>-82531684244086087439</td>\n",
       "      <td>159720</td>\n",
       "      <td>159980</td>\n",
       "    </tr>\n",
       "    <tr>\n",
       "      <th>441</th>\n",
       "      <td>666745</td>\n",
       "      <td>1978370535069363019171965494436598887805430187...</td>\n",
       "      <td>34315822581859648096</td>\n",
       "      <td>159980</td>\n",
       "      <td>160620</td>\n",
       "    </tr>\n",
       "    <tr>\n",
       "      <th>442</th>\n",
       "      <td>666982</td>\n",
       "      <td>1023031846198601328814752678430201167139131307...</td>\n",
       "      <td>-2157049420910909153013</td>\n",
       "      <td>160020</td>\n",
       "      <td>160380</td>\n",
       "    </tr>\n",
       "    <tr>\n",
       "      <th>443</th>\n",
       "      <td>666983</td>\n",
       "      <td>1795379526864516001192759226179826164944519758...</td>\n",
       "      <td>1738100128455342997294</td>\n",
       "      <td>160320</td>\n",
       "      <td>160760</td>\n",
       "    </tr>\n",
       "  </tbody>\n",
       "</table>\n",
       "</div>"
      ],
      "text/plain": [
       "     block_number                                   transaction_hash  \\\n",
       "439        666536  1911543264031492649671364865746270888424138935...   \n",
       "440        666743  3612697557243504901502164165821570526602030830...   \n",
       "441        666745  1978370535069363019171965494436598887805430187...   \n",
       "442        666982  1023031846198601328814752678430201167139131307...   \n",
       "443        666983  1795379526864516001192759226179826164944519758...   \n",
       "\n",
       "             delta_liquidity  tick_lower  tick_upper  \n",
       "439   7100366254514246602899      160020      160280  \n",
       "440    -82531684244086087439      159720      159980  \n",
       "441     34315822581859648096      159980      160620  \n",
       "442  -2157049420910909153013      160020      160380  \n",
       "443   1738100128455342997294      160320      160760  "
      ]
     },
     "metadata": {},
     "output_type": "display_data"
    }
   ],
   "source": [
    "result = EkuboData.split_dataframes(df_swap, df_liquidity, split_ratio=0.7)\n",
    "print(\"Split Block:\", result['split_block'])\n",
    "print(\"Max Block:\", result['max_block'])\n",
    "print(\"Min Block:\", result['min_block'])\n",
    "\n",
    "print(\"Training Swap DataFrame:\")\n",
    "display(result['train_swap_df'].head())\n",
    "print(\"\\nTesting Swap DataFrame:\")\n",
    "display(result['test_swap_df'].head())\n",
    "\n",
    "print(\"\\nTraining Liquidity DataFrame:\")\n",
    "display(result['train_liquidity_df'].head())\n",
    "print(\"\\nTesting Liquidity DataFrame:\")\n",
    "display(result['test_liquidity_df'].head())\n"
   ]
  },
  {
   "cell_type": "code",
   "execution_count": 31,
   "id": "476c1080",
   "metadata": {},
   "outputs": [],
   "source": [
    "\n",
    "def calculate_fee_earned(row):\n",
    "    \"\"\"\n",
    "    Calculate the fee earned for a given row in the DataFrame.\n",
    "\n",
    "    This function takes a row with price and liquidity information, calculates the\n",
    "    liquidity provided based on capital and price range, and then computes the fee\n",
    "    earned based on the pool fee fraction.\n",
    "\n",
    "    Parameters:\n",
    "    row (pd.Series): A row from the DataFrame containing 'price' and 'liquidity_after' columns.\n",
    "\n",
    "    Returns:\n",
    "    float: The fee earned based on liquidity provided and pool fee fraction.\n",
    "    \"\"\"\n",
    "    liquidity_provided = get_liquidity_from_token1_capital(\n",
    "        capital_provided,\n",
    "        math.sqrt(row[\"price\"]),\n",
    "        math.sqrt(row[\"price\"] * 0.995),\n",
    "        math.sqrt(row[\"price\"] * 1.005)\n",
    "    )\n",
    "    return abs(row[\"amount1\"])* pool_fee_fraction * liquidity_provided / row[\"liquidity_after\"], liquidity_provided #, \n"
   ]
  },
  {
   "cell_type": "markdown",
   "id": "8cf5dd88",
   "metadata": {},
   "source": [
    "# Calculate the yield "
   ]
  },
  {
   "cell_type": "code",
   "execution_count": 32,
   "id": "cb770d23",
   "metadata": {},
   "outputs": [
    {
     "name": "stdout",
     "output_type": "stream",
     "text": [
      "       block_number                                   transaction_hash  \\\n",
      "0            655177  2416157948790894051047941157778594406573451511...   \n",
      "1            655177  2416157948790894051047941157778594406573451511...   \n",
      "2            655179  1241404949126819184019688044659591190675013926...   \n",
      "3            655179  1241404949126819184019688044659591190675013926...   \n",
      "4            655179  1241404949126819184019688044659591190675013926...   \n",
      "...             ...                                                ...   \n",
      "20243        671276  2359392697022813023487105484794733969816457267...   \n",
      "20244        671276  2986541183633608452305943088000790905357244641...   \n",
      "20245        671277  8374465392320618110901157982672179235952894945...   \n",
      "20246        671277  3327358304559859428349916224869653718127980211...   \n",
      "20247        671277  1609111356439168654596792282055337625410801174...   \n",
      "\n",
      "          price  tick_id             liquidity_after               amount0  \\\n",
      "0      1.171710   158464    137703958037274544831372     -2256616757779677   \n",
      "1      1.171710   158464    137703958037274544831372                     0   \n",
      "2      1.171708   158463    137703958037274544831372     42668433630093793   \n",
      "3      1.171708   158463    137703958037274544831372    -21336138963323289   \n",
      "4      1.171708   158463    137703958037274544831372     21334216438183549   \n",
      "...         ...      ...                         ...                   ...   \n",
      "20243  1.177000   162969  96828343542841042795293247   -254882580215538120   \n",
      "20244  1.177000   162969  96828343542841042795293247    212406398185247288   \n",
      "20245  1.177000   162969  96828343542841042795293247    254890127390508485   \n",
      "20246  1.177000   162969  96828343542841042795293247     15000000000000000   \n",
      "20247  1.177000   162969  97096546660834759249745436  -1162370761004373433   \n",
      "\n",
      "                   amount1  fee_earned  liquidity_provided  \n",
      "0         2644126307134438    0.000383        1.995821e+09  \n",
      "1                        0    0.000000        1.995821e+09  \n",
      "2       -49994504035756152    0.007246        1.995821e+09  \n",
      "3        25000000000000000    0.003623        1.995821e+09  \n",
      "4       -24997247385081083    0.003623        1.995821e+09  \n",
      "...                    ...         ...                 ...  \n",
      "20243   300000000000000000    0.000062        1.995450e+09  \n",
      "20244  -250000000000000000    0.000052        1.995450e+09  \n",
      "20245  -300002881544184258    0.000062        1.995450e+09  \n",
      "20246   -17654835264218315    0.000004        1.995450e+09  \n",
      "20247  1368125000000000000    0.000281        1.995450e+09  \n",
      "\n",
      "[20248 rows x 9 columns]\n"
     ]
    }
   ],
   "source": [
    "pool_fee_fraction = pool_fee/100 # 0.001%\n",
    "capital_provided = 10000000\n",
    "# liquidity_provided = 11346195275753762193653033\n",
    "# test_swap = result[\"test_swap_df\"]\n",
    "# Create a copy of test_swap to avoid the SettingWithCopyWarning\n",
    "df_swap = df_swap.copy()\n",
    "df_swap[[\"fee_earned\", \"liquidity_provided\"]] = df_swap.apply(calculate_fee_earned, axis=1).apply(pd.Series)\n",
    "print(df_swap)"
   ]
  },
  {
   "cell_type": "code",
   "execution_count": 33,
   "id": "667adb04",
   "metadata": {},
   "outputs": [
    {
     "name": "stdout",
     "output_type": "stream",
     "text": [
      "      block_number  total_fee_earned\n",
      "0           655177          0.000383\n",
      "1           655179          0.021739\n",
      "2           655180          0.025361\n",
      "3           655183          0.023187\n",
      "4           655186          0.000409\n",
      "...            ...               ...\n",
      "8745        671273          1.613236\n",
      "8746        671274          0.023276\n",
      "8747        671275          0.013480\n",
      "8748        671276          0.072470\n",
      "8749        671277          0.000347\n",
      "\n",
      "[8750 rows x 2 columns]\n"
     ]
    }
   ],
   "source": [
    "# Assuming 'block_number' and 'fee_earned' columns are in df_swap\n",
    "# Group by block number and calculate the sum of fees for each block\n",
    "df_block_fees = df_swap.groupby(\"block_number\")[\"fee_earned\"].sum().reset_index()\n",
    "\n",
    "# Rename columns if needed\n",
    "df_block_fees.columns = [\"block_number\", \"total_fee_earned\"]\n",
    "\n",
    "print(df_block_fees)\n"
   ]
  },
  {
   "cell_type": "code",
   "execution_count": 34,
   "id": "0fd9c1f2",
   "metadata": {},
   "outputs": [
    {
     "name": "stdout",
     "output_type": "stream",
     "text": [
      "      block_number  total_fee_earned                      Datetime\n",
      "0           655177          0.000383 2024-07-05 00:41:46.000000000\n",
      "1           655179          0.021739 2024-07-05 00:46:32.575757568\n",
      "2           655180          0.025361 2024-07-05 00:51:19.151515136\n",
      "3           655183          0.023187 2024-07-05 00:56:05.727272704\n",
      "4           655186          0.000409 2024-07-05 01:00:52.303030272\n",
      "...            ...               ...                           ...\n",
      "8745        671273          1.613236 2024-08-26 04:48:00.103825152\n",
      "8746        671274          0.023276 2024-08-26 05:03:16.827868928\n",
      "8747        671275          0.013480 2024-08-26 05:18:33.551912448\n",
      "8748        671276          0.072470 2024-08-26 05:33:50.275956480\n",
      "8749        671277          0.000347 2024-08-26 05:49:07.000000000\n",
      "\n",
      "[8750 rows x 3 columns]\n"
     ]
    }
   ],
   "source": [
    "\n",
    "# Constants\n",
    "CHECKPOINT_FILE = \"timestamps_checkpoint.json\"\n",
    "client = FullNodeClient(node_url=\"https://starknet-mainnet.g.alchemy.com/starknet/version/rpc/v0_7/XvIctndR2cw7ul32ZxTJh1HsZ5rw8pRg\")\n",
    "\n",
    "# Load checkpoint data\n",
    "def load_checkpoint():\n",
    "    if os.path.exists(CHECKPOINT_FILE):\n",
    "        with open(CHECKPOINT_FILE, \"r\") as f:\n",
    "            return json.load(f)\n",
    "    return {}\n",
    "\n",
    "# Save checkpoint data\n",
    "def save_checkpoint(timestamps):\n",
    "    with open(CHECKPOINT_FILE, \"w\") as f:\n",
    "        json.dump(timestamps, f)\n",
    "\n",
    "# Fetch block timestamp with exponential backoff for rate limit handling\n",
    "async def get_block_timestamp(block_number, retries=100, initial_backoff=100):\n",
    "    backoff = initial_backoff\n",
    "    for attempt in range(retries):\n",
    "        try:\n",
    "            block = await client.get_block(block_number=block_number)\n",
    "            return datetime.fromtimestamp(block.timestamp)\n",
    "        except Exception as e:\n",
    "            error_message = str(e)\n",
    "            if \"API rate limit exceeded\" in error_message:\n",
    "                print(f\"Attempt {attempt + 1} failed due to rate limit. Retrying in {backoff} seconds...\")\n",
    "                await asyncio.sleep(backoff)\n",
    "                backoff *= 2  # Increase backoff\n",
    "            else:\n",
    "                print(f\"Attempt {attempt + 1} failed with error: {error_message}. Retrying after {backoff} seconds...\")\n",
    "                await asyncio.sleep(backoff)\n",
    "    print(f\"Max retries reached for block {block_number}. Unable to fetch block timestamp.\")\n",
    "    return None  # Return None if all retries are exhausted\n",
    "\n",
    "# Add interpolated timestamps to DataFrame\n",
    "async def add_interpolated_timestamps(df, start_block=655177, end_block=671277, interval=100):\n",
    "    timestamps = load_checkpoint()\n",
    "\n",
    "    for block in range(start_block, end_block + 1, interval):\n",
    "        if str(block) not in timestamps:\n",
    "            timestamp = await get_block_timestamp(block)\n",
    "            if timestamp:\n",
    "                timestamps[str(block)] = timestamp.timestamp()\n",
    "                save_checkpoint(timestamps)\n",
    "\n",
    "    df[\"Datetime\"] = df[\"block_number\"].map(lambda x: timestamps.get(str(x)))\n",
    "    df[\"Datetime\"] = pd.to_datetime(df[\"Datetime\"].interpolate(), unit=\"s\")\n",
    "\n",
    "    return df\n",
    "\n",
    "# Main function\n",
    "updated_df = await add_interpolated_timestamps(df_block_fees)\n",
    "print(updated_df)\n",
    "\n"
   ]
  },
  {
   "cell_type": "code",
   "execution_count": 35,
   "id": "00f099d2",
   "metadata": {},
   "outputs": [
    {
     "name": "stdout",
     "output_type": "stream",
     "text": [
      "               Datetime  total_fee_earned  6_hour_yield       APR\n",
      "0   2024-07-05 00:00:00          1.496633  1.496633e-05  0.021851\n",
      "1   2024-07-05 06:00:00          4.209199  4.209199e-05  0.061454\n",
      "2   2024-07-05 12:00:00          2.922484  2.922484e-05  0.042668\n",
      "3   2024-07-05 18:00:00          6.925539  6.925539e-05  0.101113\n",
      "4   2024-07-06 00:00:00          2.184027  2.184027e-05  0.031887\n",
      "..                  ...               ...           ...       ...\n",
      "204 2024-08-25 00:00:00          0.042362  4.236162e-07  0.000618\n",
      "205 2024-08-25 06:00:00          2.269485  2.269485e-05  0.033134\n",
      "206 2024-08-25 12:00:00          0.203991  2.039908e-06  0.002978\n",
      "207 2024-08-25 18:00:00          1.902844  1.902844e-05  0.027782\n",
      "208 2024-08-26 00:00:00          2.985733  2.985733e-05  0.043592\n",
      "\n",
      "[209 rows x 4 columns]\n",
      "df_6hr_fee columns: Index(['Datetime', 'total_fee_earned', '6_hour_yield', 'APR'], dtype='object')\n"
     ]
    }
   ],
   "source": [
    "# Set the timestamp as the index\n",
    "updated_df.set_index('Datetime', inplace=True)\n",
    "\n",
    "# Resample data into 6-hour intervals and calculate the sum of fees in each interval\n",
    "df_6hr_fee = updated_df['total_fee_earned'].resample('6H', origin='2024-07-05').sum()\n",
    "\n",
    "# Reset index for a clean DataFrame\n",
    "df_6hr_fee = df_6hr_fee.reset_index()\n",
    "\n",
    "# Calculate 6-hour yield and APR based on the resampled fee data\n",
    "df_6hr_fee[\"6_hour_yield\"] = df_6hr_fee['total_fee_earned'] / capital_provided * 100\n",
    "df_6hr_fee[\"APR\"] = df_6hr_fee['total_fee_earned'] / capital_provided * 4 * 365 * 100\n",
    "\n",
    "print(df_6hr_fee)\n",
    "\n",
    "print(\"df_6hr_fee columns:\", df_6hr_fee.columns)\n"
   ]
  },
  {
   "cell_type": "code",
   "execution_count": 36,
   "id": "21f6e071",
   "metadata": {},
   "outputs": [
    {
     "data": {
      "image/png": "[encoded data removed]",
      "text/plain": [
       "<Figure size 1000x600 with 1 Axes>"
      ]
     },
     "metadata": {},
     "output_type": "display_data"
    }
   ],
   "source": [
    "plt.figure(figsize=(10, 6))\n",
    "plt.plot(df_6hr_fee[\"Datetime\"], df_6hr_fee[\"APR\"], marker='o')\n",
    "plt.title(\"6-Hourly Fee Earned from 2024-07-05 to 2024-08-26\")\n",
    "plt.xlabel(\"Datetime\")\n",
    "plt.ylabel(\"APR\")\n",
    "plt.grid(True)\n",
    "plt.show()\n"
   ]
  },
  {
   "cell_type": "code",
   "execution_count": 37,
   "id": "c8c3500b",
   "metadata": {},
   "outputs": [
    {
     "name": "stderr",
     "output_type": "stream",
     "text": [
      "\r",
      "[*********************100%%**********************]  1 of 1 completed"
     ]
    },
    {
     "name": "stdout",
     "output_type": "stream",
     "text": [
      "                    Datetime         Open         High          Low  \\\n",
      "6  2024-07-05 06:00:00+00:00  2900.812744  2900.812744  2847.264404   \n",
      "7  2024-07-05 07:00:00+00:00  2861.143555  2879.680664  2852.079102   \n",
      "8  2024-07-05 08:00:00+00:00  2880.936768  2881.854492  2852.310303   \n",
      "9  2024-07-05 09:00:00+00:00  2850.706055  2881.758057  2826.014404   \n",
      "10 2024-07-05 10:00:00+00:00  2882.311035  2928.872070  2875.855225   \n",
      "11 2024-07-05 11:00:00+00:00  2914.665527  2953.418457  2914.665527   \n",
      "12 2024-07-05 12:00:00+00:00  2945.744385  2958.921875  2935.583496   \n",
      "13 2024-07-05 13:00:00+00:00  2935.435059  2975.499023  2928.650879   \n",
      "14 2024-07-05 14:00:00+00:00  2972.876709  2973.451904  2939.981445   \n",
      "15 2024-07-05 15:00:00+00:00  2955.860840  3001.425537  2952.961914   \n",
      "\n",
      "          Close    Adj Close     Volume  Hourly_Returns  6H_Rolling_Volatility  \n",
      "6   2859.445801  2859.445801  622532608       -0.012471               0.016468  \n",
      "7   2878.168213  2878.168213  376733696        0.006548               0.017918  \n",
      "8   2852.310303  2852.310303          0       -0.008984               0.012313  \n",
      "9   2881.758057  2881.758057  112400384        0.010324               0.012527  \n",
      "10  2913.889893  2913.889893  689997824        0.011150               0.010590  \n",
      "11  2946.626221  2946.626221  645500928        0.011235               0.010802  \n",
      "12  2939.589844  2939.589844  838850560       -0.002388               0.008448  \n",
      "13  2966.980225  2966.980225          0        0.009318               0.008646  \n",
      "14  2954.348389  2954.348389          0       -0.004257               0.007199  \n",
      "15  2984.517090  2984.517090  582567936        0.010212               0.007185  \n"
     ]
    },
    {
     "name": "stderr",
     "output_type": "stream",
     "text": [
      "\n"
     ]
    }
   ],
   "source": [
    "# Define the ticker symbol and date range\n",
    "ticker = 'ETH-USD'  # Ethereum to USD\n",
    "start_date = '2024-07-05'\n",
    "end_date = '2024-08-27'\n",
    "\n",
    "# Download hourly data\n",
    "data = yf.download(ticker, start=start_date, end=end_date, interval='1h')\n",
    "data = data.reset_index()\n",
    "# Ensure data is available\n",
    "if not data.empty:\n",
    "    # Calculate hourly returns\n",
    "    data['Hourly_Returns'] = data['Close'].pct_change()\n",
    "\n",
    "    # Calculate 6-hour rolling volatility (standard deviation of returns)\n",
    "    data['6H_Rolling_Volatility'] = data['Hourly_Returns'].rolling(window=6).std()\n",
    "\n",
    "    # Drop initial NaN values due to rolling calculation\n",
    "    data = data.dropna(subset=['6H_Rolling_Volatility'])\n",
    "\n",
    "    # Display the data\n",
    "    print(data.head(10))\n",
    "else:\n",
    "    print(\"No data available for the specified date range.\")\n"
   ]
  },
  {
   "cell_type": "code",
   "execution_count": 38,
   "id": "acc3634b",
   "metadata": {},
   "outputs": [
    {
     "data": {
      "image/png": "[encoded data removed]",
      "text/plain": [
       "<Figure size 1200x600 with 1 Axes>"
      ]
     },
     "metadata": {},
     "output_type": "display_data"
    }
   ],
   "source": [
    "# Plot the 6-hour rolling volatility\n",
    "plt.figure(figsize=(12, 6))\n",
    "plt.plot(data[\"Datetime\"], data['6H_Rolling_Volatility'], label='6-Hour Rolling Volatility')\n",
    "plt.xlabel('Datetime')\n",
    "plt.ylabel('Volatility')\n",
    "plt.title('6-Hour Rolling Volatility of Hourly Returns for ETH-USD')\n",
    "plt.legend()\n",
    "plt.grid(True)\n",
    "plt.xticks(rotation=45)\n",
    "plt.tight_layout()\n",
    "plt.show()\n"
   ]
  },
  {
   "cell_type": "code",
   "execution_count": 39,
   "id": "528cd3b7",
   "metadata": {},
   "outputs": [
    {
     "name": "stdout",
     "output_type": "stream",
     "text": [
      "                     Datetime  6H_Rolling_Volatility\n",
      "0   2024-07-05 06:00:00+00:00               0.016468\n",
      "1   2024-07-05 12:00:00+00:00               0.008448\n",
      "2   2024-07-05 18:00:00+00:00               0.007338\n",
      "3   2024-07-06 00:00:00+00:00               0.002592\n",
      "4   2024-07-06 06:00:00+00:00               0.005983\n",
      "..                        ...                    ...\n",
      "206 2024-08-25 18:00:00+00:00               0.002488\n",
      "207 2024-08-26 00:00:00+00:00               0.004677\n",
      "208 2024-08-26 06:00:00+00:00               0.002309\n",
      "209 2024-08-26 12:00:00+00:00               0.001884\n",
      "210 2024-08-26 18:00:00+00:00               0.004867\n",
      "\n",
      "[211 rows x 2 columns]\n"
     ]
    }
   ],
   "source": [
    "volatality_6h = data[data['Datetime'].dt.hour%6 == 0].reset_index(drop = True)\n",
    "print(volatality_6h[[\"Datetime\",\"6H_Rolling_Volatility\"]])"
   ]
  },
  {
   "cell_type": "code",
   "execution_count": 40,
   "id": "788195df",
   "metadata": {},
   "outputs": [
    {
     "name": "stdout",
     "output_type": "stream",
     "text": [
      "df_6hr_fee columns: Index(['Datetime', 'total_fee_earned', '6_hour_yield', 'APR'], dtype='object')\n",
      "volatality_6h columns: Index(['Datetime', 'Open', 'High', 'Low', 'Close', 'Adj Close', 'Volume',\n",
      "       'Hourly_Returns', '6H_Rolling_Volatility'],\n",
      "      dtype='object')\n",
      "               Datetime       APR  6H_Rolling_Volatility\n",
      "0   2024-07-05 06:00:00  0.061454               0.016468\n",
      "1   2024-07-05 12:00:00  0.042668               0.008448\n",
      "2   2024-07-05 18:00:00  0.101113               0.007338\n",
      "3   2024-07-06 00:00:00  0.031887               0.002592\n",
      "4   2024-07-06 06:00:00  0.023138               0.005983\n",
      "..                  ...       ...                    ...\n",
      "203 2024-08-25 00:00:00  0.000618               0.009642\n",
      "204 2024-08-25 06:00:00  0.033134               0.001808\n",
      "205 2024-08-25 12:00:00  0.002978               0.002726\n",
      "206 2024-08-25 18:00:00  0.027782               0.002488\n",
      "207 2024-08-26 00:00:00  0.043592               0.004677\n",
      "\n",
      "[208 rows x 3 columns]\n"
     ]
    }
   ],
   "source": [
    "# Ensure only 208 rows in volatality_6h\n",
    "volatality_6h = volatality_6h.head(208)\n",
    "print(\"df_6hr_fee columns:\", df_6hr_fee.columns)\n",
    "print(\"volatality_6h columns:\", volatality_6h.columns)\n",
    "df_6hr_fee['Datetime'] = pd.to_datetime(df_6hr_fee['Datetime']).dt.tz_localize(None)\n",
    "volatality_6h['Datetime'] = pd.to_datetime(volatality_6h['Datetime']).dt.tz_localize(None)\n",
    "\n",
    "\n",
    "# Adjust for correct capitalization in column names\n",
    "correlation_columns = pd.merge(\n",
    "    df_6hr_fee[['Datetime', 'APR']],       # Use 'Datetime' with uppercase 'D'\n",
    "    volatality_6h[['Datetime', '6H_Rolling_Volatility']],  # Also with 'Datetime' column\n",
    "    on='Datetime',                         # Merge on 'Datetime' with uppercase 'D'\n",
    "    how='inner'                            # Use 'inner' join to keep only matching rows\n",
    ")\n",
    "\n",
    "# Display the result\n",
    "print(correlation_columns)\n"
   ]
  },
  {
   "cell_type": "code",
   "execution_count": 41,
   "id": "54d94817",
   "metadata": {},
   "outputs": [
    {
     "name": "stdout",
     "output_type": "stream",
     "text": [
      "Correlation between column1 and column2: 0.046735662406740264\n",
      "               Datetime       APR  6H_Rolling_Volatility  Lagged_Volatility\n",
      "0   2024-07-05 06:00:00  0.061454               0.016468                NaN\n",
      "1   2024-07-05 12:00:00  0.042668               0.008448           0.016468\n",
      "2   2024-07-05 18:00:00  0.101113               0.007338           0.008448\n",
      "3   2024-07-06 00:00:00  0.031887               0.002592           0.007338\n",
      "4   2024-07-06 06:00:00  0.023138               0.005983           0.002592\n",
      "..                  ...       ...                    ...                ...\n",
      "203 2024-08-25 00:00:00  0.000618               0.009642           0.009742\n",
      "204 2024-08-25 06:00:00  0.033134               0.001808           0.009642\n",
      "205 2024-08-25 12:00:00  0.002978               0.002726           0.001808\n",
      "206 2024-08-25 18:00:00  0.027782               0.002488           0.002726\n",
      "207 2024-08-26 00:00:00  0.043592               0.004677           0.002488\n",
      "\n",
      "[208 rows x 4 columns]\n",
      "Correlation between APR[1] and 6H_Rolling_Volatility[0]: 0.09971785723725834\n"
     ]
    }
   ],
   "source": [
    "correlation = correlation_columns['APR'].corr(correlation_columns['6H_Rolling_Volatility'])\n",
    "print(\"Correlation between column1 and column2:\", correlation)\n",
    "\n",
    "\n",
    "# Shift the '6H_Rolling_Volatility' by 1 to align with the next row in 'APR'\n",
    "correlation_columns['Lagged_Volatility'] = correlation_columns['6H_Rolling_Volatility'].shift(1)\n",
    "print(correlation_columns)\n",
    "# Calculate the correlation between 'APR' and the lagged '6H_Rolling_Volatility'\n",
    "correlation = correlation_columns['APR'].corr(correlation_columns['Lagged_Volatility'])\n",
    "print(\"Correlation between APR[1] and 6H_Rolling_Volatility[0]:\", correlation)\n"
   ]
  },
  {
   "cell_type": "code",
   "execution_count": 42,
   "id": "9963a874",
   "metadata": {},
   "outputs": [
    {
     "data": {
      "image/png": "[encoded data removed]",
      "text/plain": [
       "<Figure size 500x500 with 1 Axes>"
      ]
     },
     "metadata": {},
     "output_type": "display_data"
    }
   ],
   "source": [
    "\n",
    "# Assuming df is your DataFrame\n",
    "plt.figure(figsize=(5, 5))\n",
    "plt.scatter(correlation_columns['APR'], correlation_columns['Lagged_Volatility'], alpha=0.6)\n",
    "plt.title(\"Scatter Plot of APR vs volatility\")\n",
    "plt.xlabel(\"APR\")\n",
    "plt.ylabel(\"Volatility\")\n",
    "plt.show()\n"
   ]
  },
  {
   "cell_type": "code",
   "execution_count": 43,
   "id": "4314c2c9",
   "metadata": {},
   "outputs": [
    {
     "name": "stdout",
     "output_type": "stream",
     "text": [
      "Spearman Correlation: 0.14167776082085914\n",
      "Kendall Tau Correlation: 0.0899113550021106\n",
      "Distance Correlation: 0.19558161668606808\n"
     ]
    }
   ],
   "source": [
    "spearman_corr = correlation_columns['APR'].corr(correlation_columns['Lagged_Volatility'], method='spearman')\n",
    "print(\"Spearman Correlation:\", spearman_corr)\n",
    "\n",
    "\n",
    "kendall_corr = correlation_columns['APR'].corr(correlation_columns['Lagged_Volatility'], method='kendall')\n",
    "print(\"Kendall Tau Correlation:\", kendall_corr)\n",
    "\n",
    "distance_corr = dcor.distance_correlation(correlation_columns['APR'][1:], correlation_columns['Lagged_Volatility'][1:])\n",
    "print(\"Distance Correlation:\", distance_corr)"
   ]
  },
  {
   "cell_type": "code",
   "execution_count": 56,
   "id": "774d814c",
   "metadata": {},
   "outputs": [
    {
     "name": "stdout",
     "output_type": "stream",
     "text": [
      "APR threshold 0.002254979218198632\n",
      "Accuracy: 0.5555555555555556\n",
      "              precision    recall  f1-score   support\n",
      "\n",
      "        High       0.39      0.39      0.39        23\n",
      "         Low       0.65      0.65      0.65        40\n",
      "\n",
      "    accuracy                           0.56        63\n",
      "   macro avg       0.52      0.52      0.52        63\n",
      "weighted avg       0.56      0.56      0.56        63\n",
      "\n"
     ]
    }
   ],
   "source": [
    "# Define thresholds for APR based on quantiles\n",
    "# low_apr = correlation_columns['APR'].quantile(0.33)\n",
    "apr_threshold = correlation_columns['APR'].quantile(0.6)\n",
    "print(\"APR threshold\", apr_threshold)\n",
    "# Create target labels based on APR\n",
    "correlation_columns['APR_classification'] = correlation_columns['APR'].apply(\n",
    "    lambda x: 'Low' if x <= apr_threshold else 'High'\n",
    ")\n",
    "\n",
    "# print(correlation_columns)\n",
    "X = correlation_columns[['6H_Rolling_Volatility']]  # Feature\n",
    "y = correlation_columns['APR_classification']       # Target labels\n",
    "\n",
    "# Split data into training and testing sets\n",
    "X_train, X_test, y_train, y_test = train_test_split(X, y, test_size=0.3, random_state=42)\n",
    "\n",
    "# Initialize and train the Decision Tree model\n",
    "cart_model = DecisionTreeClassifier(random_state=42)\n",
    "cart_model.fit(X_train, y_train)\n",
    "\n",
    "# Make predictions\n",
    "y_pred = cart_model.predict(X_test)\n",
    "# Evaluate the model\n",
    "print(\"Accuracy:\", accuracy_score(y_test, y_pred))\n",
    "print(classification_report(y_test, y_pred))\n"
   ]
  },
  {
   "cell_type": "code",
   "execution_count": 63,
   "id": "fc147316",
   "metadata": {},
   "outputs": [
    {
     "name": "stdout",
     "output_type": "stream",
     "text": [
      "x =  [[1.e-09]] y =  ['High']\n"
     ]
    },
    {
     "name": "stderr",
     "output_type": "stream",
     "text": [
      "C:\\Users\\molak\\anaconda3\\Lib\\site-packages\\sklearn\\base.py:493: UserWarning: X does not have valid feature names, but DecisionTreeClassifier was fitted with feature names\n",
      "  warnings.warn(\n"
     ]
    }
   ],
   "source": [
    "#Example\n",
    "volatility_val = np.array(0.001).reshape(-1, 1) \n",
    "y_pred2 = cart_model.predict(volatility_val)  # This will reshape it to a 2D column vector\n",
    "\n",
    "print(\"x = \", volatility_val, \"y = \", y_pred2)"
   ]
  },
  {
   "cell_type": "code",
   "execution_count": 52,
   "id": "a3ea460f",
   "metadata": {},
   "outputs": [
    {
     "data": {
      "text/plain": [
       "['decision_tree_model.pkl']"
      ]
     },
     "execution_count": 52,
     "metadata": {},
     "output_type": "execute_result"
    }
   ],
   "source": [
    "import joblib\n",
    "joblib.dump(cart_model, 'decision_tree_model.pkl')\n"
   ]
  }
 ],
 "metadata": {
  "kernelspec": {
   "display_name": "Python 3 (ipykernel)",
   "language": "python",
   "name": "python3"
  },
  "language_info": {
   "codemirror_mode": {
    "name": "ipython",
    "version": 3
   },
   "file_extension": ".py",
   "mimetype": "text/x-python",
   "name": "python",
   "nbconvert_exporter": "python",
   "pygments_lexer": "ipython3",
   "version": "3.11.7"
  }
 },
 "nbformat": 4,
 "nbformat_minor": 5
}
